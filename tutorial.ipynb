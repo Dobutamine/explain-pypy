{
 "cells": [
  {
   "cell_type": "code",
   "execution_count": 1,
   "metadata": {},
   "outputs": [
    {
     "name": "stdout",
     "output_type": "stream",
     "text": [
      " Model 'term_neonate' initialized and ready for use. Have fun!\n"
     ]
    }
   ],
   "source": [
    "from explain import ModelEngine\n",
    "\n",
    "model = ModelEngine(\"patients/term_neonate.json\")"
   ]
  },
  {
   "cell_type": "code",
   "execution_count": 2,
   "metadata": {},
   "outputs": [
    {
     "name": "stdout",
     "output_type": "stream",
     "text": [
      "Model run in 5.6961 sec. Taking 240000 model steps with a step duration of 0.0237 sec.\n",
      "\n",
      "AA.pres         : max   67.91288, min   27.12297, mean   40.71961 mmHg\n"
     ]
    }
   ],
   "source": [
    "model.analyze([\"AA.pres\"], time_to_calculate=120)"
   ]
  },
  {
   "cell_type": "code",
   "execution_count": 6,
   "metadata": {},
   "outputs": [
    {
     "data": {
      "text/plain": [
       "<explain.Heart at 0x14b28a1a8>"
      ]
     },
     "execution_count": 6,
     "metadata": {},
     "output_type": "execute_result"
    }
   ],
   "source": [
    "model.models[\"Monitor\"]._heart"
   ]
  },
  {
   "cell_type": "code",
   "execution_count": null,
   "metadata": {},
   "outputs": [],
   "source": []
  }
 ],
 "metadata": {
  "kernelspec": {
   "display_name": "Python 3",
   "language": "python",
   "name": "python3"
  },
  "language_info": {
   "codemirror_mode": {
    "name": "ipython",
    "version": 3
   },
   "file_extension": ".py",
   "mimetype": "text/x-python",
   "name": "python",
   "nbconvert_exporter": "python",
   "pygments_lexer": "ipython3",
   "version": "3.10.14"
  }
 },
 "nbformat": 4,
 "nbformat_minor": 2
}
