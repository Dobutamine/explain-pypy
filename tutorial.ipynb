{
 "cells": [
  {
   "cell_type": "code",
   "execution_count": 1,
   "metadata": {},
   "outputs": [
    {
     "name": "stdout",
     "output_type": "stream",
     "text": [
      " Model 'term_neonate' initialized and ready for use. Have fun!\n"
     ]
    }
   ],
   "source": [
    "from explain import ModelEngine\n",
    "\n",
    "model = ModelEngine(\"patients/term_neonate.json\")"
   ]
  },
  {
   "cell_type": "code",
   "execution_count": 8,
   "metadata": {},
   "outputs": [
    {
     "name": "stdout",
     "output_type": "stream",
     "text": [
      "Model run in 2.6494 sec. Taking 120000 model steps with a step duration of 0.0221 sec.\n",
      "\n"
     ]
    }
   ],
   "source": [
    "model.calculate(60)"
   ]
  },
  {
   "cell_type": "code",
   "execution_count": 3,
   "metadata": {},
   "outputs": [
    {
     "name": "stdout",
     "output_type": "stream",
     "text": [
      "Model run in 4.8769 sec. Taking 240000 model steps with a step duration of 0.0203 sec.\n",
      "\n",
      "Monitor.resp_rate: max   40.49711 min   40.24726\n",
      "AA.ph           : max    7.36766 min    7.36333\n"
     ]
    },
    {
     "data": {
      "image/png": "[encoded data removed]",
      "text/plain": [
       "<Figure size 1400x200 with 1 Axes>"
      ]
     },
     "metadata": {},
     "output_type": "display_data"
    }
   ],
   "source": [
    "model.plot([\"Monitor.resp_rate\", \"AA.ph\"], time_to_calculate=120)"
   ]
  },
  {
   "cell_type": "code",
   "execution_count": null,
   "metadata": {},
   "outputs": [],
   "source": []
  }
 ],
 "metadata": {
  "kernelspec": {
   "display_name": "Python 3",
   "language": "python",
   "name": "python3"
  },
  "language_info": {
   "codemirror_mode": {
    "name": "ipython",
    "version": 3
   },
   "file_extension": ".py",
   "mimetype": "text/x-python",
   "name": "python",
   "nbconvert_exporter": "python",
   "pygments_lexer": "ipython3",
   "version": "3.10.14"
  }
 },
 "nbformat": 4,
 "nbformat_minor": 2
}
